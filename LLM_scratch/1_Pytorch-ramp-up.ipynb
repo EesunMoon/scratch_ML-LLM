{
 "cells": [
  {
   "cell_type": "markdown",
   "id": "b25cc53b-7a50-44e6-8e95-12f9e3f50a56",
   "metadata": {},
   "source": [
    "### A.1 Pytorch\n",
    "1. Tensor library: torch.tensor()\n",
    "2. Automatic Differentiation engine:\n",
    "    - import torch.nn.functional as F\n",
    "    - from torch.autograd import grad\n",
    "3. Deep learning library: torch.nn.Module  "
   ]
  },
  {
   "cell_type": "code",
   "execution_count": 1,
   "id": "affcced0-c09d-4c2b-b371-9ce2721d0e41",
   "metadata": {},
   "outputs": [],
   "source": [
    "import torch"
   ]
  },
  {
   "cell_type": "code",
   "execution_count": 2,
   "id": "bc2054be-4a7c-48ce-b0a4-9c63cce7db86",
   "metadata": {},
   "outputs": [
    {
     "data": {
      "text/plain": [
       "'2.7.1'"
      ]
     },
     "execution_count": 2,
     "metadata": {},
     "output_type": "execute_result"
    }
   ],
   "source": [
    "torch.__version__"
   ]
  },
  {
   "cell_type": "code",
   "execution_count": 3,
   "id": "233e2171-d0b0-42fb-9772-10d79c0c7d9f",
   "metadata": {},
   "outputs": [
    {
     "data": {
      "text/plain": [
       "False"
      ]
     },
     "execution_count": 3,
     "metadata": {},
     "output_type": "execute_result"
    }
   ],
   "source": [
    "torch.cuda.is_available()"
   ]
  },
  {
   "cell_type": "code",
   "execution_count": 5,
   "id": "2e29bf1b-cb4c-4399-a3bb-0a9193419072",
   "metadata": {},
   "outputs": [
    {
     "data": {
      "text/plain": [
       "True"
      ]
     },
     "execution_count": 5,
     "metadata": {},
     "output_type": "execute_result"
    }
   ],
   "source": [
    "torch.backends.mps.is_available()"
   ]
  },
  {
   "cell_type": "markdown",
   "id": "026d7001-6d13-40b4-b252-9df43f17c83a",
   "metadata": {},
   "source": [
    "### A.2 Understanding Tensors"
   ]
  },
  {
   "cell_type": "code",
   "execution_count": 6,
   "id": "82953b6b-2daa-44a0-bef8-d31c1d615a92",
   "metadata": {},
   "outputs": [],
   "source": [
    "import numpy as np"
   ]
  },
  {
   "cell_type": "code",
   "execution_count": 9,
   "id": "d0d8c1a6-3ec2-4dd3-9c9d-e34e789b4bbd",
   "metadata": {},
   "outputs": [],
   "source": [
    "# 1) Scalars, Vectors, Matrices, and Tensors\n",
    "\n",
    "tensor0d = torch.tensor(1) # scalar\n",
    "tensor1d = torch.tensor([1,2,3]) # vector\n",
    "tensor2d = torch.tensor([[1,2], [3, 4]]) # matrix\n",
    "\n",
    "# Using a nested Python list\n",
    "tensor3d_1 = torch.tensor([[[1,2], [3,4]],\n",
    "                           [[5,6], [7,8]]])\n",
    "# Using Numpy Array\n",
    "aray3d = np.array([[[1,2], [3,4]],\n",
    "                    [[5,6], [7,8]]])\n",
    "tensor3d_2 = torch.tensor(aray3d) # copies\n",
    "tensor3d_3 = torch.from_numpy(aray3d) # shares memory with NumPy array\n",
    "# if aray3d has been changed, tensor3d_3 would be changed as well"
   ]
  },
  {
   "cell_type": "code",
   "execution_count": 10,
   "id": "7cf2f025-677a-41de-a1fb-7543f0ba6c29",
   "metadata": {},
   "outputs": [
    {
     "name": "stdout",
     "output_type": "stream",
     "text": [
      "torch.int64\n",
      "torch.float32\n",
      "tensor([1., 2., 3.])\n",
      "torch.float32\n"
     ]
    }
   ],
   "source": [
    "# 2) Tensor data types\n",
    "\n",
    "tensor1d = torch.tensor([1,2,3])\n",
    "print(tensor1d.dtype)\n",
    "\n",
    "floatvec = torch.tensor([1.0, 2.0, 3.0])\n",
    "print(floatvec.dtype)\n",
    "\n",
    "floatvec = tensor1d.to(torch.float32)\n",
    "print(floatvec)\n",
    "print(floatvec.dtype)"
   ]
  },
  {
   "cell_type": "code",
   "execution_count": 12,
   "id": "a8c1b12a-463a-4793-bcf6-a352c23a724a",
   "metadata": {},
   "outputs": [
    {
     "name": "stdout",
     "output_type": "stream",
     "text": [
      "Original Tensor: tensor([[1, 2, 3],\n",
      "        [4, 5, 6]])\n",
      "Original Tensor shape: torch.Size([2, 3])\n",
      "Reshape: tensor([[1, 2],\n",
      "        [3, 4],\n",
      "        [5, 6]])\n",
      "View: tensor([[1, 2],\n",
      "        [3, 4],\n",
      "        [5, 6]])\n",
      "Shape of reshape and view: torch.Size([3, 2])\n",
      "Transpose: tensor([[1, 4],\n",
      "        [2, 5],\n",
      "        [3, 6]])\n",
      "Shape of transpose: torch.Size([3, 2])\n",
      "Matmul: tensor([[14, 32],\n",
      "        [32, 77]])\n",
      "@: tensor([[14, 32],\n",
      "        [32, 77]])\n",
      "Shape of matmul: torch.Size([2, 2])\n"
     ]
    }
   ],
   "source": [
    "# 3) Tensor operation\n",
    "\n",
    "tensor2d = torch.tensor([[1,2,3],\n",
    "                         [4,5,6]])\n",
    "print(f\"Original Tensor: {tensor2d}\")\n",
    "print(f\"Original Tensor shape: {tensor2d.shape}\")\n",
    "\n",
    "print(f\"Reshape: {tensor2d.reshape(3,2)}\")\n",
    "print(f\"View: {tensor2d.view(3,2)}\")\n",
    "print(f\"Shape of reshape and view: {tensor2d.reshape(3,2).shape}\")\n",
    "\n",
    "print(f\"Transpose: {tensor2d.T}\")\n",
    "print(f\"Shape of transpose: {tensor2d.T.shape}\")\n",
    "\n",
    "print(f\"Matmul: {tensor2d.matmul(tensor2d.T)}\")\n",
    "print(f\"@: {tensor2d @ tensor2d.T}\")\n",
    "print(f\"Shape of matmul: {tensor2d.matmul(tensor2d.T).shape}\")"
   ]
  },
  {
   "cell_type": "markdown",
   "id": "990cf5b1-2e20-41d8-bebe-2bae3508ec9c",
   "metadata": {},
   "source": [
    "### A.3 Seeing models as computation graphs"
   ]
  },
  {
   "cell_type": "code",
   "execution_count": 13,
   "id": "5ff76ec9-64d1-40a5-84c2-850e576669fa",
   "metadata": {},
   "outputs": [
    {
     "name": "stdout",
     "output_type": "stream",
     "text": [
      "tensor(0.0852)\n"
     ]
    }
   ],
   "source": [
    "import torch.nn.functional as F\n",
    "\n",
    "y = torch.tensor([1.0]) # true label\n",
    "x1 = torch.tensor([1.1]) # input feature\n",
    "w1 = torch.tensor([2.2]) # weight params\n",
    "b = torch.tensor([0.0]) # bias\n",
    "\n",
    "z = x1 * w1 + b # input * weight + bias\n",
    "a = torch.sigmoid(z) # activation\n",
    "loss = F.binary_cross_entropy(a, y) # loss(predict, true)\n",
    "print(loss)"
   ]
  },
  {
   "cell_type": "markdown",
   "id": "4ac8f4d4-ca07-4f4f-94e4-28e254216e13",
   "metadata": {},
   "source": [
    "### A.4 Automatic differentiation made easy\n",
    "- option: requires_grad=True"
   ]
  },
  {
   "cell_type": "code",
   "execution_count": 15,
   "id": "f55e999b-5888-4727-adf3-34f56c0c2cb9",
   "metadata": {},
   "outputs": [
    {
     "name": "stdout",
     "output_type": "stream",
     "text": [
      "(tensor([-0.0898]),)\n",
      "(tensor([-0.0817]),)\n",
      "tensor([-0.0898])\n",
      "tensor([-0.0817])\n"
     ]
    }
   ],
   "source": [
    "from torch.autograd import grad\n",
    "\n",
    "y = torch.tensor([1.0]) # true label\n",
    "x1 = torch.tensor([1.1]) # input feature\n",
    "w1 = torch.tensor([2.2], requires_grad=True) # weight params\n",
    "b = torch.tensor([0.0], requires_grad=True) # bias\n",
    "\n",
    "z = x1*w1+b\n",
    "a = torch.sigmoid(z)\n",
    "loss = F.binary_cross_entropy(a, y)\n",
    "\n",
    "grad_L_w1 = grad(loss, w1, retain_graph=True)\n",
    "grad_L_b = grad(loss, b, retain_graph=True)\n",
    "\n",
    "print(grad_L_w1)\n",
    "print(grad_L_b)\n",
    "\n",
    "loss.backward()\n",
    "print(w1.grad)\n",
    "print(b.grad)"
   ]
  },
  {
   "cell_type": "markdown",
   "id": "1f04eb76-1b3b-4054-a601-d0b8ac286de1",
   "metadata": {},
   "source": [
    "### A.5 Implementing multilayer neural networks"
   ]
  },
  {
   "cell_type": "code",
   "execution_count": 16,
   "id": "736e207d-dd41-41c2-91b6-a498c3de8cf5",
   "metadata": {},
   "outputs": [],
   "source": [
    "class NeuralNetwork(torch.nn.Module):\n",
    "    def __init__(self, num_inputs, num_outputs):\n",
    "        super().__init__()\n",
    "\n",
    "        self.layers = torch.nn.Sequential(\n",
    "\n",
    "            torch.nn.Linear(num_inputs, 30),\n",
    "            torch.nn.ReLU(),\n",
    "\n",
    "            torch.nn.Linear(30, 20),\n",
    "            torch.nn.ReLU(),\n",
    "\n",
    "            torch.nn.Linear(20, num_outputs),\n",
    "        )\n",
    "    \n",
    "    def forward(self, x):\n",
    "        logits = self.layers(x)\n",
    "        return logits"
   ]
  },
  {
   "cell_type": "code",
   "execution_count": 17,
   "id": "ec0647c9-ee53-46e1-9245-814944e50ef4",
   "metadata": {},
   "outputs": [
    {
     "name": "stdout",
     "output_type": "stream",
     "text": [
      "NeuralNetwork(\n",
      "  (layers): Sequential(\n",
      "    (0): Linear(in_features=50, out_features=30, bias=True)\n",
      "    (1): ReLU()\n",
      "    (2): Linear(in_features=30, out_features=20, bias=True)\n",
      "    (3): ReLU()\n",
      "    (4): Linear(in_features=20, out_features=3, bias=True)\n",
      "  )\n",
      ")\n"
     ]
    }
   ],
   "source": [
    "model = NeuralNetwork(50, 3) #input:30, output:3\n",
    "print(model)"
   ]
  },
  {
   "cell_type": "code",
   "execution_count": 18,
   "id": "743f2fd4-c5ec-4af6-af5a-cc4f797a5734",
   "metadata": {},
   "outputs": [
    {
     "name": "stdout",
     "output_type": "stream",
     "text": [
      "2213\n"
     ]
    }
   ],
   "source": [
    "num_params = sum(p.numel() for p in model.parameters() if p.requires_grad)\n",
    "print(num_params)"
   ]
  },
  {
   "cell_type": "code",
   "execution_count": 19,
   "id": "54f3b855-4b7c-4a0f-8cc8-9373d7006af6",
   "metadata": {},
   "outputs": [
    {
     "name": "stdout",
     "output_type": "stream",
     "text": [
      "Parameter containing:\n",
      "tensor([[ 0.0980,  0.1206,  0.0794,  ..., -0.0320, -0.0515, -0.0909],\n",
      "        [-0.0786,  0.0261, -0.0096,  ...,  0.0287,  0.1168,  0.1230],\n",
      "        [ 0.1335,  0.0078,  0.1390,  ...,  0.0622, -0.0184, -0.1265],\n",
      "        ...,\n",
      "        [-0.0206, -0.1390, -0.0188,  ..., -0.1378,  0.1035, -0.0060],\n",
      "        [ 0.0005, -0.0458,  0.1236,  ..., -0.0569, -0.1321, -0.0212],\n",
      "        [-0.0277,  0.0020, -0.0279,  ...,  0.0635,  0.0442,  0.0301]],\n",
      "       requires_grad=True)\n"
     ]
    }
   ],
   "source": [
    "print(model.layers[0].weight)"
   ]
  },
  {
   "cell_type": "code",
   "execution_count": 20,
   "id": "665fab45-81a3-473c-be6c-23af7a2934e8",
   "metadata": {},
   "outputs": [
    {
     "name": "stdout",
     "output_type": "stream",
     "text": [
      "Parameter containing:\n",
      "tensor([[-0.0577,  0.0047, -0.0702,  ...,  0.0222,  0.1260,  0.0865],\n",
      "        [ 0.0502,  0.0307,  0.0333,  ...,  0.0951,  0.1134, -0.0297],\n",
      "        [ 0.1077, -0.1108,  0.0122,  ...,  0.0108, -0.1049, -0.1063],\n",
      "        ...,\n",
      "        [-0.0787,  0.1259,  0.0803,  ...,  0.1218,  0.1303, -0.1351],\n",
      "        [ 0.1359,  0.0175, -0.0673,  ...,  0.0674,  0.0676,  0.1058],\n",
      "        [ 0.0790,  0.1343, -0.0293,  ...,  0.0344, -0.0971, -0.0509]],\n",
      "       requires_grad=True)\n"
     ]
    }
   ],
   "source": [
    "torch.manual_seed(123)\n",
    "\n",
    "model = NeuralNetwork(50, 3)\n",
    "print(model.layers[0].weight)"
   ]
  },
  {
   "cell_type": "code",
   "execution_count": 21,
   "id": "d985eba0-706c-4feb-87bd-9a837ceae3fa",
   "metadata": {},
   "outputs": [
    {
     "name": "stdout",
     "output_type": "stream",
     "text": [
      "torch.Size([30, 50])\n"
     ]
    }
   ],
   "source": [
    "print(model.layers[0].weight.shape)"
   ]
  },
  {
   "cell_type": "code",
   "execution_count": 25,
   "id": "80cbdc31-67a5-41bb-8b53-bee4445d35e8",
   "metadata": {},
   "outputs": [
    {
     "name": "stdout",
     "output_type": "stream",
     "text": [
      "tensor([[-0.1262,  0.1080, -0.1792]], grad_fn=<AddmmBackward0>)\n",
      "torch.Size([1, 3])\n"
     ]
    }
   ],
   "source": [
    "torch.manual_seed(123)\n",
    "\n",
    "X = torch.rand((1,50))\n",
    "out = model(X) # forward pass\n",
    "print(out)\n",
    "print(out.shape)"
   ]
  },
  {
   "cell_type": "markdown",
   "id": "64564589-f088-4b1f-af7d-2aef2bb338d5",
   "metadata": {
    "jp-MarkdownHeadingCollapsed": true
   },
   "source": [
    "AddmmBackward0: Matrix Multiplication (mm) followed by an addition (Add)"
   ]
  },
  {
   "cell_type": "code",
   "execution_count": 26,
   "id": "bdee4653-2564-4976-99de-09026b37688b",
   "metadata": {},
   "outputs": [
    {
     "name": "stdout",
     "output_type": "stream",
     "text": [
      "tensor([[-0.1262,  0.1080, -0.1792]])\n"
     ]
    }
   ],
   "source": [
    "# inference (don't need to use gradient like training process)\n",
    "with torch.no_grad():\n",
    "    out = model(X)\n",
    "print(out)"
   ]
  },
  {
   "cell_type": "code",
   "execution_count": 27,
   "id": "4f0650e8-5e55-4c4c-9c1b-0d849e9d603f",
   "metadata": {},
   "outputs": [
    {
     "name": "stdout",
     "output_type": "stream",
     "text": [
      "tensor([[0.3113, 0.3934, 0.2952]])\n"
     ]
    }
   ],
   "source": [
    "# non-linear activation func in output layer\n",
    "with torch.no_grad():\n",
    "    out = torch.softmax(model(X), dim=1)\n",
    "print(out)"
   ]
  },
  {
   "cell_type": "markdown",
   "id": "4c16e729-4537-4822-a875-69265d63ae14",
   "metadata": {},
   "source": [
    "### A.6 Setting up efficient data loaders\n",
    "from torch.utils.data import Dataset"
   ]
  },
  {
   "cell_type": "code",
   "execution_count": 28,
   "id": "91da8f2b-db98-45bc-8fe3-5c8e706c2835",
   "metadata": {},
   "outputs": [],
   "source": [
    "X_train = torch.tensor([\n",
    "    [-1.2, 3.1],\n",
    "    [-0.9, 2.9],\n",
    "    [-0.5, 2.6],\n",
    "    [2.3, -1.1],\n",
    "    [2.7, -1.5]\n",
    "])\n",
    "y_train = torch.tensor([0, 0, 0, 1, 1])"
   ]
  },
  {
   "cell_type": "code",
   "execution_count": 29,
   "id": "779c5add-9850-4306-be02-eb03859a8976",
   "metadata": {},
   "outputs": [],
   "source": [
    "X_test = torch.tensor([\n",
    "    [-0.8, 2.8],\n",
    "    [2.6, -1.6],\n",
    "])\n",
    "y_test = torch.tensor([0, 1])"
   ]
  },
  {
   "cell_type": "code",
   "execution_count": 32,
   "id": "d62eec1a-33f7-4b5f-996a-c9a1f2919ce2",
   "metadata": {},
   "outputs": [
    {
     "name": "stdout",
     "output_type": "stream",
     "text": [
      "5\n"
     ]
    }
   ],
   "source": [
    "from torch.utils.data import Dataset, DataLoader\n",
    "\n",
    "# Generate Dataset \n",
    "class ToyDataset(Dataset):\n",
    "    def __init__(self, X, y):\n",
    "        self.features = X\n",
    "        self.labels = y\n",
    "    def __getitem__(self, index):\n",
    "        one_x = self.features[index]\n",
    "        one_y = self.labels[index]\n",
    "        return one_x, one_y\n",
    "    def __len__(self):\n",
    "        return self.labels.shape[0] # row\n",
    "\n",
    "train_ds = ToyDataset(X_train, y_train)\n",
    "test_ds = ToyDataset(X_test, y_test)\n",
    "print(len(train_ds))\n",
    "\n",
    "# Load Dataset based on batch size and shuffle\n",
    "torch.manual_seed(123)\n",
    "train_loader = DataLoader(\n",
    "    dataset=train_ds,\n",
    "    batch_size=2,\n",
    "    shuffle=True,\n",
    "    num_workers=0\n",
    ")\n",
    "test_loader = DataLoader(\n",
    "    dataset=test_ds,\n",
    "    batch_size=2,\n",
    "    shuffle=False,\n",
    "    num_workers=0\n",
    ")"
   ]
  },
  {
   "cell_type": "code",
   "execution_count": 33,
   "id": "967da3fc-d329-4998-a2a6-614e6c4fc1dc",
   "metadata": {},
   "outputs": [
    {
     "name": "stdout",
     "output_type": "stream",
     "text": [
      "Batch 1: tensor([[ 2.3000, -1.1000],\n",
      "        [-0.9000,  2.9000]]) tensor([1, 0])\n",
      "Batch 2: tensor([[-1.2000,  3.1000],\n",
      "        [-0.5000,  2.6000]]) tensor([0, 0])\n",
      "Batch 3: tensor([[ 2.7000, -1.5000]]) tensor([1])\n"
     ]
    }
   ],
   "source": [
    "for idx, (x, y) in enumerate(train_loader):\n",
    "    print(f\"Batch {idx+1}:\", x, y)"
   ]
  },
  {
   "cell_type": "code",
   "execution_count": 34,
   "id": "5cc6dcda-5b60-4178-8c71-dfd08655496f",
   "metadata": {},
   "outputs": [],
   "source": [
    "# drop_last\n",
    "train_loader = DataLoader(\n",
    "    dataset=train_ds,\n",
    "    batch_size=2,\n",
    "    shuffle=True,\n",
    "    num_workers=0,\n",
    "    drop_last=True\n",
    ")"
   ]
  },
  {
   "cell_type": "code",
   "execution_count": 35,
   "id": "f63f79af-bea1-4af2-bd0a-536052c27483",
   "metadata": {},
   "outputs": [
    {
     "name": "stdout",
     "output_type": "stream",
     "text": [
      "Batch 1: tensor([[-1.2000,  3.1000],\n",
      "        [-0.5000,  2.6000]]) tensor([0, 0])\n",
      "Batch 2: tensor([[ 2.3000, -1.1000],\n",
      "        [-0.9000,  2.9000]]) tensor([1, 0])\n"
     ]
    }
   ],
   "source": [
    "for idx, (x, y) in enumerate(train_loader):\n",
    "    print(f\"Batch {idx+1}:\", x, y)"
   ]
  },
  {
   "cell_type": "markdown",
   "id": "3467807e-5f34-44c2-9a54-403c1fe06077",
   "metadata": {},
   "source": [
    "### A.7 A typical training loop"
   ]
  },
  {
   "cell_type": "code",
   "execution_count": 37,
   "id": "b9157129-ffab-431a-9a47-48a421a3da71",
   "metadata": {},
   "outputs": [
    {
     "name": "stdout",
     "output_type": "stream",
     "text": [
      "Epoch: 001/003 | Batch 000/002 | Train/Val loss: 0.75\n",
      "Epoch: 001/003 | Batch 001/002 | Train/Val loss: 0.65\n",
      "Epoch: 002/003 | Batch 000/002 | Train/Val loss: 0.44\n",
      "Epoch: 002/003 | Batch 001/002 | Train/Val loss: 0.13\n",
      "Epoch: 003/003 | Batch 000/002 | Train/Val loss: 0.03\n",
      "Epoch: 003/003 | Batch 001/002 | Train/Val loss: 0.00\n"
     ]
    }
   ],
   "source": [
    "torch.manual_seed(123)\n",
    "model = NeuralNetwork(num_inputs=2, num_outputs=2)\n",
    "optimizer = torch.optim.SGD(model.parameters(), lr=0.5)\n",
    "\n",
    "num_epochs = 3\n",
    "for epoch in range(num_epochs):\n",
    "\n",
    "    model.train()\n",
    "    for batch_idx, (features, labels) in enumerate(train_loader):\n",
    "        logits = model(features)\n",
    "\n",
    "        loss = F.cross_entropy(logits, labels)\n",
    "\n",
    "        optimizer.zero_grad()\n",
    "        loss.backward()\n",
    "        optimizer.step()\n",
    "\n",
    "        print(f\"Epoch: {epoch+1:03d}/{num_epochs:03d}\"\n",
    "            f\" | Batch {batch_idx:03d}/{len(train_loader):03d}\"\n",
    "            f\" | Train/Val loss: {loss:.2f}\")\n",
    "\n",
    "    model.eval()"
   ]
  },
  {
   "cell_type": "code",
   "execution_count": 38,
   "id": "106050a6-f433-4aac-985a-bc781a5ac665",
   "metadata": {},
   "outputs": [
    {
     "name": "stdout",
     "output_type": "stream",
     "text": [
      "tensor([[ 2.8569, -4.1618],\n",
      "        [ 2.5382, -3.7548],\n",
      "        [ 2.0944, -3.1820],\n",
      "        [-1.4814,  1.4816],\n",
      "        [-1.7176,  1.7342]])\n"
     ]
    }
   ],
   "source": [
    "model.eval() # evaluation\n",
    "\n",
    "with torch.no_grad():\n",
    "    outputs = model(X_train)\n",
    "print(outputs)"
   ]
  },
  {
   "cell_type": "code",
   "execution_count": 39,
   "id": "a90549ff-e5da-4a93-b392-c7495f58b857",
   "metadata": {},
   "outputs": [
    {
     "name": "stdout",
     "output_type": "stream",
     "text": [
      "tensor([[    0.9991,     0.0009],\n",
      "        [    0.9982,     0.0018],\n",
      "        [    0.9949,     0.0051],\n",
      "        [    0.0491,     0.9509],\n",
      "        [    0.0307,     0.9693]])\n",
      "tensor([0, 0, 0, 1, 1])\n"
     ]
    }
   ],
   "source": [
    "torch.set_printoptions(sci_mode=False)\n",
    "probas = torch.softmax(outputs, dim=1)\n",
    "print(probas)\n",
    "\n",
    "predicts = torch.argmax(probas, dim=1)\n",
    "print(predicts)"
   ]
  },
  {
   "cell_type": "code",
   "execution_count": 40,
   "id": "2451aee9-af22-40f8-8e08-33a2e3309d62",
   "metadata": {},
   "outputs": [
    {
     "name": "stdout",
     "output_type": "stream",
     "text": [
      "tensor([True, True, True, True, True])\n",
      "tensor(5)\n"
     ]
    }
   ],
   "source": [
    "print(predicts == y_train)\n",
    "print(torch.sum(predicts==y_train))"
   ]
  },
  {
   "cell_type": "code",
   "execution_count": 43,
   "id": "6301150b-da70-4309-a57b-a92c5943131c",
   "metadata": {},
   "outputs": [],
   "source": [
    "def compute_accuracy(model, dataloader):\n",
    "    model = model.eval()\n",
    "    correct = 0.0\n",
    "    total_examples = 0\n",
    "\n",
    "    for idx, (features, labels) in enumerate(dataloader):\n",
    "        with torch.no_grad():\n",
    "            logits = model(features)\n",
    "        predicts = torch.argmax(logits,dim=1)\n",
    "        compare = labels == predicts\n",
    "        correct += torch.sum(compare)\n",
    "        total_examples += len(compare)\n",
    "    return (correct/total_examples).item()"
   ]
  },
  {
   "cell_type": "code",
   "execution_count": 44,
   "id": "a06df714-c0fd-4448-802d-6be30679d369",
   "metadata": {},
   "outputs": [
    {
     "name": "stdout",
     "output_type": "stream",
     "text": [
      "1.0\n",
      "1.0\n"
     ]
    }
   ],
   "source": [
    "print(compute_accuracy(model, train_loader))\n",
    "print(compute_accuracy(model, test_loader))"
   ]
  },
  {
   "cell_type": "markdown",
   "id": "cb035a00-4509-4207-b70e-8bbf3c179c95",
   "metadata": {},
   "source": [
    "### A.9 Optimizing training performance with GPUs"
   ]
  },
  {
   "cell_type": "code",
   "execution_count": 45,
   "id": "2ab4502c-0ea3-4473-bc59-36b54dfa2f28",
   "metadata": {},
   "outputs": [
    {
     "name": "stdout",
     "output_type": "stream",
     "text": [
      "2.7.1\n"
     ]
    }
   ],
   "source": [
    "print(torch.__version__)"
   ]
  },
  {
   "cell_type": "code",
   "execution_count": 48,
   "id": "df32773e-73c0-4cfd-adee-60130742f033",
   "metadata": {},
   "outputs": [
    {
     "name": "stdout",
     "output_type": "stream",
     "text": [
      "True\n"
     ]
    }
   ],
   "source": [
    "print(torch.backends.mps.is_available())"
   ]
  },
  {
   "cell_type": "code",
   "execution_count": 52,
   "id": "b0bedc57-0331-4feb-85a4-af90916456d2",
   "metadata": {},
   "outputs": [
    {
     "name": "stdout",
     "output_type": "stream",
     "text": [
      "tensor([5., 7., 9.], device='mps:0')\n"
     ]
    }
   ],
   "source": [
    "device = torch.device(\"mps\" if torch.backends.mps.is_available() else \"cpu\")\n",
    "\n",
    "tensor_1 = torch.tensor([1., 2., 3.]).to(device)\n",
    "tensor_2 = torch.tensor([4., 5., 6.]).to(device)\n",
    "print(tensor_1+tensor_2)"
   ]
  },
  {
   "cell_type": "code",
   "execution_count": 53,
   "id": "02dbe8a9-ab20-4e8c-b507-f5389bf4b883",
   "metadata": {},
   "outputs": [
    {
     "name": "stdout",
     "output_type": "stream",
     "text": [
      "Epoch: 001/003 | Batch 000/002 | Train/Val loss: 0.75\n",
      "Epoch: 001/003 | Batch 001/002 | Train/Val loss: 0.65\n",
      "Epoch: 002/003 | Batch 000/002 | Train/Val loss: 0.44\n",
      "Epoch: 002/003 | Batch 001/002 | Train/Val loss: 0.13\n",
      "Epoch: 003/003 | Batch 000/002 | Train/Val loss: 0.03\n",
      "Epoch: 003/003 | Batch 001/002 | Train/Val loss: 0.00\n"
     ]
    }
   ],
   "source": [
    "# 1. fix the random seed\n",
    "torch.manual_seed(123)\n",
    "\n",
    "# 2. Load Model\n",
    "model = NeuralNetwork(num_inputs=2, num_outputs=2)\n",
    "\n",
    "# 3. fix the device\n",
    "if torch.cuda.is_available():\n",
    "    device = torch.device(\"cuda\")\n",
    "elif torch.backends.mps.is_available():\n",
    "    device = torch.device(\"mps\")\n",
    "else:\n",
    "    device = torch.device(\"cpu\")\n",
    "\n",
    "# 4. Load optimizer\n",
    "model.to(device)\n",
    "optimizer = torch.optim.SGD(model.parameters(), lr=0.5)\n",
    "\n",
    "# 5. train \n",
    "num_epochs = 3\n",
    "for epoch in range(num_epochs):\n",
    "    model.train() # 5.1 model train mode\n",
    "    for batch_idx, (features, labels) in enumerate(train_loader): # iter epochs\n",
    "        features,labels = features.to(device), labels.to(device)  # 5.1.1. convert in GPU mode\n",
    "        logits = model(features) # 5.1.2 forward\n",
    "        loss = F.cross_entropy(logits, labels) # 5.1.3 calculate loss\n",
    "\n",
    "        # 5.1.4 backward\n",
    "        optimizer.zero_grad()\n",
    "        loss.backward()\n",
    "        optimizer.step()\n",
    "\n",
    "        print(f\"Epoch: {epoch+1:03d}/{num_epochs:03d}\"\n",
    "            f\" | Batch {batch_idx:03d}/{len(train_loader):03d}\"\n",
    "            f\" | Train/Val loss: {loss:.2f}\")\n",
    "    \n",
    "    model.eval() # 5.2. evaluation for each epoch"
   ]
  },
  {
   "cell_type": "code",
   "execution_count": null,
   "id": "bceb44a9-8469-4b33-8147-93c227b26b4d",
   "metadata": {},
   "outputs": [],
   "source": []
  }
 ],
 "metadata": {
  "kernelspec": {
   "display_name": "Python 3 (ipykernel)",
   "language": "python",
   "name": "python3"
  },
  "language_info": {
   "codemirror_mode": {
    "name": "ipython",
    "version": 3
   },
   "file_extension": ".py",
   "mimetype": "text/x-python",
   "name": "python",
   "nbconvert_exporter": "python",
   "pygments_lexer": "ipython3",
   "version": "3.10.18"
  }
 },
 "nbformat": 4,
 "nbformat_minor": 5
}

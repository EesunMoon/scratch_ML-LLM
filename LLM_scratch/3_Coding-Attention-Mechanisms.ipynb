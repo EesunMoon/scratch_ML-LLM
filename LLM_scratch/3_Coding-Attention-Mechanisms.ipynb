{
 "cells": [
  {
   "cell_type": "markdown",
   "id": "6d3101ba-ebb6-4ebd-8b73-e8ed9ff4b51a",
   "metadata": {},
   "source": [
    "### 3.3. Simple Self-Attention Mechanism without trainable weights"
   ]
  },
  {
   "cell_type": "code",
   "execution_count": 3,
   "id": "4612af13-6274-4406-bc21-20fa5bc07189",
   "metadata": {},
   "outputs": [],
   "source": [
    "import torch\n",
    "\n",
    "inputs = torch.tensor(\n",
    "  [[0.43, 0.15, 0.89], # Your     (x^1)\n",
    "   [0.55, 0.87, 0.66], # journey  (x^2)\n",
    "   [0.57, 0.85, 0.64], # starts   (x^3)\n",
    "   [0.22, 0.58, 0.33], # with     (x^4)\n",
    "   [0.77, 0.25, 0.10], # one      (x^5)\n",
    "   [0.05, 0.80, 0.55]] # step     (x^6)\n",
    ") # (input_size, output_dim)"
   ]
  },
  {
   "cell_type": "markdown",
   "id": "d8c35ff9-7e58-462e-b30a-aa85cef42cc7",
   "metadata": {},
   "source": [
    "#### Single Context Vector\n",
    "1. Get **Attention Score**: How similar between query and input (relevant)"
   ]
  },
  {
   "cell_type": "code",
   "execution_count": 5,
   "id": "66ad680e-5126-42ef-addd-b2b19c89586a",
   "metadata": {},
   "outputs": [
    {
     "name": "stdout",
     "output_type": "stream",
     "text": [
      "tensor([0.9544, 1.4950, 1.4754, 0.8434, 0.7070, 1.0865])\n"
     ]
    }
   ],
   "source": [
    "# 1. Get Attention Score of each token with query: dot product (element-wise)\n",
    "\n",
    "input_query = inputs[1] # x_2\n",
    "\n",
    "attn_scores_2 = torch.empty(inputs.shape[0]) # input_size = how many tokens\n",
    "for i, x_i in enumerate(inputs):\n",
    "    attn_scores_2[i] = torch.dot(x_i, input_query)\n",
    "\n",
    "print(attn_scores_2)"
   ]
  },
  {
   "cell_type": "markdown",
   "id": "c4e09a69-288b-4d6d-a92a-26393af2f369",
   "metadata": {},
   "source": [
    "2. Compute **Attention Weight** - Trainable weight"
   ]
  },
  {
   "cell_type": "code",
   "execution_count": 12,
   "id": "d9a5385f-22f5-4099-8c9b-8b45c92f19b9",
   "metadata": {},
   "outputs": [
    {
     "name": "stdout",
     "output_type": "stream",
     "text": [
      "Attention Weights: tensor([0.1455, 0.2278, 0.2249, 0.1285, 0.1077, 0.1656])\n",
      "Sum: tensor(1.0000)\n",
      "Softmax: tensor([0.1385, 0.2379, 0.2333, 0.1240, 0.1082, 0.1581])\n",
      "Sum of Softmax: tensor(1.)\n"
     ]
    }
   ],
   "source": [
    "# 2. Attention Weight: Normalization\n",
    "\n",
    "# 2-1) normalization using sum\n",
    "attn_weights2_tmp = attn_scores_2 / attn_scores_2.sum()\n",
    "print(\"Attention Weights:\", attn_weights2_2_tmp)\n",
    "print(\"Sum:\", attn_weights2_2_tmp.sum())\n",
    "\n",
    "# 2-2) softmax\n",
    "def softmax_naive(x):\n",
    "    return torch.exp(x) / torch.exp(x).sum(dim=0)\n",
    "attn_weights2 = softmax_naive(attn_scores_2)\n",
    "print(\"Softmax:\", attn_weights2_2)\n",
    "print(\"Sum of Softmax:\", attn_weights2_2.sum())"
   ]
  },
  {
   "cell_type": "code",
   "execution_count": 13,
   "id": "deb879d8-8970-435f-922f-beba57fa30d5",
   "metadata": {},
   "outputs": [
    {
     "data": {
      "text/plain": [
       "tensor([0.1385, 0.2379, 0.2333, 0.1240, 0.1082, 0.1581])"
      ]
     },
     "execution_count": 13,
     "metadata": {},
     "output_type": "execute_result"
    }
   ],
   "source": [
    "torch.softmax(attn_scores_2, dim=0)"
   ]
  },
  {
   "cell_type": "markdown",
   "id": "0087ee4a-1705-4bba-a5df-d2a72e47c402",
   "metadata": {},
   "source": [
    "3. Compute **Context Vector**(z_i): attention weight * input token"
   ]
  },
  {
   "cell_type": "code",
   "execution_count": 16,
   "id": "7360ad11-6f00-4e6f-9a46-a0dc909cb236",
   "metadata": {},
   "outputs": [
    {
     "name": "stdout",
     "output_type": "stream",
     "text": [
      "Attn_weight:0.13854758441448212 ---> Input:tensor([0.4300, 0.1500, 0.8900])\n",
      "Attn_weight:0.2378913313150406 ---> Input:tensor([0.5500, 0.8700, 0.6600])\n",
      "Attn_weight:0.23327405750751495 ---> Input:tensor([0.5700, 0.8500, 0.6400])\n",
      "Attn_weight:0.12399159371852875 ---> Input:tensor([0.2200, 0.5800, 0.3300])\n",
      "Attn_weight:0.10818187892436981 ---> Input:tensor([0.7700, 0.2500, 0.1000])\n",
      "Attn_weight:0.15811361372470856 ---> Input:tensor([0.0500, 0.8000, 0.5500])\n",
      "tensor([0.4419, 0.6515, 0.5683])\n"
     ]
    }
   ],
   "source": [
    "# 3. Context Vector (shape == query.shape)\n",
    "query = inputs[1]\n",
    "\n",
    "context_vec_2 = torch.zeros(query.shape)\n",
    "for i, x_i in enumerate(inputs):\n",
    "    print(f\"Attn_weight:{attn_weights2[i]} ---> Input:{inputs[i]}\")\n",
    "    context_vec_2 += attn_weights2[i] * x_i\n",
    "print(context_vec_2)"
   ]
  },
  {
   "cell_type": "markdown",
   "id": "f8cc03af-5b36-44ae-9b82-ca75f127eb62",
   "metadata": {},
   "source": [
    "#### Computing Attention weights for all input tokens\n",
    "- context vector.shape == input_embedding.shape"
   ]
  },
  {
   "cell_type": "code",
   "execution_count": 18,
   "id": "0d0e8580-51f3-47b8-9539-61d3edeaf0cc",
   "metadata": {},
   "outputs": [
    {
     "data": {
      "text/plain": [
       "tensor([[0.4300, 0.1500, 0.8900],\n",
       "        [0.5500, 0.8700, 0.6600],\n",
       "        [0.5700, 0.8500, 0.6400],\n",
       "        [0.2200, 0.5800, 0.3300],\n",
       "        [0.7700, 0.2500, 0.1000],\n",
       "        [0.0500, 0.8000, 0.5500]])"
      ]
     },
     "execution_count": 18,
     "metadata": {},
     "output_type": "execute_result"
    }
   ],
   "source": [
    "inputs"
   ]
  },
  {
   "cell_type": "code",
   "execution_count": 20,
   "id": "3a77a5ca-e1ac-48c8-9fd4-819a794ebe8b",
   "metadata": {},
   "outputs": [
    {
     "name": "stdout",
     "output_type": "stream",
     "text": [
      "tensor([[0.9995, 0.9544, 0.9422, 0.4753, 0.4576, 0.6310],\n",
      "        [0.9544, 1.4950, 1.4754, 0.8434, 0.7070, 1.0865],\n",
      "        [0.9422, 1.4754, 1.4570, 0.8296, 0.7154, 1.0605],\n",
      "        [0.4753, 0.8434, 0.8296, 0.4937, 0.3474, 0.6565],\n",
      "        [0.4576, 0.7070, 0.7154, 0.3474, 0.6654, 0.2935],\n",
      "        [0.6310, 1.0865, 1.0605, 0.6565, 0.2935, 0.9450]])\n",
      "tensor([[0.9995, 0.9544, 0.9422, 0.4753, 0.4576, 0.6310],\n",
      "        [0.9544, 1.4950, 1.4754, 0.8434, 0.7070, 1.0865],\n",
      "        [0.9422, 1.4754, 1.4570, 0.8296, 0.7154, 1.0605],\n",
      "        [0.4753, 0.8434, 0.8296, 0.4937, 0.3474, 0.6565],\n",
      "        [0.4576, 0.7070, 0.7154, 0.3474, 0.6654, 0.2935],\n",
      "        [0.6310, 1.0865, 1.0605, 0.6565, 0.2935, 0.9450]])\n"
     ]
    }
   ],
   "source": [
    "# 1) get attention score: shape --> (input_num, input_num)\n",
    "\n",
    "# Approach 1) multiplication\n",
    "attn_scores = torch.empty(inputs.shape[0], inputs.shape[0])\n",
    "\n",
    "for i, x_i in enumerate(inputs):\n",
    "    for j, x_j in enumerate(inputs):\n",
    "        attn_scores[i, j] = torch.dot(x_i, x_j)\n",
    "print(attn_scores)\n",
    "\n",
    "# Approach 2) matrix multiplication\n",
    "attn_scores = inputs @ inputs.T\n",
    "print(attn_scores)"
   ]
  },
  {
   "cell_type": "code",
   "execution_count": 36,
   "id": "eebaebfb-d82b-4c5c-a0ed-0169a00e2904",
   "metadata": {},
   "outputs": [
    {
     "name": "stdout",
     "output_type": "stream",
     "text": [
      "tensor([[0.2098, 0.2006, 0.1981, 0.1242, 0.1220, 0.1452],\n",
      "        [0.1385, 0.2379, 0.2333, 0.1240, 0.1082, 0.1581],\n",
      "        [0.1390, 0.2369, 0.2326, 0.1242, 0.1108, 0.1565],\n",
      "        [0.1435, 0.2074, 0.2046, 0.1462, 0.1263, 0.1720],\n",
      "        [0.1526, 0.1958, 0.1975, 0.1367, 0.1879, 0.1295],\n",
      "        [0.1385, 0.2184, 0.2128, 0.1420, 0.0988, 0.1896]])\n"
     ]
    }
   ],
   "source": [
    "# 2) Attention weight: Normalization (softmax)\n",
    "# dim=-1: make the columns sum as -1\n",
    "attn_weights = torch.softmax(attn_scores, dim=-1)\n",
    "print(attn_weights)"
   ]
  },
  {
   "cell_type": "code",
   "execution_count": 22,
   "id": "a4485e91-4683-4fda-b486-7193f586cf26",
   "metadata": {},
   "outputs": [
    {
     "name": "stdout",
     "output_type": "stream",
     "text": [
      "tensor([[0.4421, 0.5931, 0.5790],\n",
      "        [0.4419, 0.6515, 0.5683],\n",
      "        [0.4431, 0.6496, 0.5671],\n",
      "        [0.4304, 0.6298, 0.5510],\n",
      "        [0.4671, 0.5910, 0.5266],\n",
      "        [0.4177, 0.6503, 0.5645]])\n"
     ]
    }
   ],
   "source": [
    "# 3) Context vector: x_i * attn_weights\n",
    "all_context_vecs = attn_weights @ inputs\n",
    "print(all_context_vecs)"
   ]
  },
  {
   "cell_type": "code",
   "execution_count": 37,
   "id": "b4533c63-39ac-4e90-ad62-fbb5a7822835",
   "metadata": {},
   "outputs": [],
   "source": [
    "## [summary] all process (input: input_num x output_dim)\n",
    "attn_scores = inputs @ inputs.T # input_num x input_num\n",
    "attn_weights = torch.softmax(attn_scores, dim=-1) # input_num x input_num\n",
    "all_context_vecs = attn_weights @ inputs # input_num x output_dim"
   ]
  },
  {
   "cell_type": "markdown",
   "id": "52da4394-31b3-4784-a53f-48c88bd12ab5",
   "metadata": {},
   "source": [
    "### 3.4. Self-attention with trainable weights"
   ]
  },
  {
   "cell_type": "code",
   "execution_count": 24,
   "id": "0d8009aa-e537-4eb8-a283-adbdc89328bb",
   "metadata": {},
   "outputs": [
    {
     "data": {
      "text/plain": [
       "tensor([[0.4300, 0.1500, 0.8900],\n",
       "        [0.5500, 0.8700, 0.6600],\n",
       "        [0.5700, 0.8500, 0.6400],\n",
       "        [0.2200, 0.5800, 0.3300],\n",
       "        [0.7700, 0.2500, 0.1000],\n",
       "        [0.0500, 0.8000, 0.5500]])"
      ]
     },
     "execution_count": 24,
     "metadata": {},
     "output_type": "execute_result"
    }
   ],
   "source": [
    "inputs"
   ]
  },
  {
   "cell_type": "markdown",
   "id": "acd70627-49fe-4e76-9ea8-606798bca511",
   "metadata": {},
   "source": [
    "#### Single self-attention"
   ]
  },
  {
   "cell_type": "code",
   "execution_count": 26,
   "id": "91f3c210-e570-4fef-90a8-80c48cf5f2a5",
   "metadata": {},
   "outputs": [],
   "source": [
    "x_2 = inputs[1]\n",
    "d_in = inputs.shape[1]\n",
    "d_out = 2 # output_embedding size: flexible"
   ]
  },
  {
   "cell_type": "code",
   "execution_count": 31,
   "id": "41b1d35d-6215-41df-bd6b-768e24f11689",
   "metadata": {},
   "outputs": [],
   "source": [
    "torch.manual_seed(123)\n",
    "\n",
    "W_query = torch.nn.Parameter(torch.rand(d_in, d_out)) # make trainable matrices\n",
    "W_key = torch.nn.Parameter(torch.rand(d_in, d_out))\n",
    "W_value = torch.nn.Parameter(torch.rand(d_in, d_out))"
   ]
  },
  {
   "cell_type": "code",
   "execution_count": 32,
   "id": "e73ff278-4e56-4e2d-b2ee-c1e9a9e90885",
   "metadata": {},
   "outputs": [
    {
     "data": {
      "text/plain": [
       "tensor([0.4306, 1.4551], grad_fn=<SqueezeBackward4>)"
      ]
     },
     "execution_count": 32,
     "metadata": {},
     "output_type": "execute_result"
    }
   ],
   "source": [
    "query_2 = x_2 @ W_query # (input_num, em_in) * (em_in, em_out)\n",
    "query_2 # (input_num, em_out)"
   ]
  },
  {
   "cell_type": "code",
   "execution_count": 33,
   "id": "b09b59b1-4260-497b-a925-d74bebddd289",
   "metadata": {},
   "outputs": [
    {
     "name": "stdout",
     "output_type": "stream",
     "text": [
      "tensor([[0.3669, 0.7646],\n",
      "        [0.4433, 1.1419],\n",
      "        [0.4361, 1.1156],\n",
      "        [0.2408, 0.6706],\n",
      "        [0.1827, 0.3292],\n",
      "        [0.3275, 0.9642]], grad_fn=<MmBackward0>)\n"
     ]
    }
   ],
   "source": [
    "keys = inputs @ W_key\n",
    "value = inputs @ W_value\n",
    "\n",
    "print(keys)"
   ]
  },
  {
   "cell_type": "code",
   "execution_count": 34,
   "id": "3e9ae29f-d73d-4535-b6d8-72603d1e4426",
   "metadata": {},
   "outputs": [
    {
     "name": "stdout",
     "output_type": "stream",
     "text": [
      "tensor(1.8524, grad_fn=<DotBackward0>)\n"
     ]
    }
   ],
   "source": [
    "keys_2 = keys[1]\n",
    "attn_scores_22 = torch.dot(query_2, keys_2)\n",
    "print(attn_scores_22)"
   ]
  },
  {
   "cell_type": "code",
   "execution_count": 35,
   "id": "a2a6ed1a-505d-4f4b-a8a0-387d3c58e426",
   "metadata": {},
   "outputs": [
    {
     "data": {
      "text/plain": [
       "tensor([1.2705, 1.8524, 1.8111, 1.0795, 0.5577, 1.5440],\n",
       "       grad_fn=<SqueezeBackward4>)"
      ]
     },
     "execution_count": 35,
     "metadata": {},
     "output_type": "execute_result"
    }
   ],
   "source": [
    "attn_scores_2 = query_2 @ keys.T\n",
    "attn_scores_2"
   ]
  },
  {
   "cell_type": "code",
   "execution_count": 39,
   "id": "01ccd842-0179-4686-a9fb-fca269b875e9",
   "metadata": {},
   "outputs": [
    {
     "name": "stdout",
     "output_type": "stream",
     "text": [
      "2nd Attention weight: tensor([0.1500, 0.2264, 0.2199, 0.1311, 0.0906, 0.1820],\n",
      "       grad_fn=<SoftmaxBackward0>)\n",
      "Sum tensor(1.0000, grad_fn=<SumBackward0>)\n"
     ]
    }
   ],
   "source": [
    "d_k = keys.shape[1]\n",
    "attn_weights_2 = torch.softmax(attn_scores_2 / d_k**0.5, dim=-1)\n",
    "print(\"2nd Attention weight:\", attn_weights_2)\n",
    "print(\"Sum\", attn_weights_2.sum())"
   ]
  },
  {
   "cell_type": "code",
   "execution_count": 41,
   "id": "1f3d4cc8-e5bf-4251-a3ed-75bc43c17b63",
   "metadata": {},
   "outputs": [
    {
     "data": {
      "text/plain": [
       "tensor([0.3061, 0.8210], grad_fn=<SqueezeBackward4>)"
      ]
     },
     "execution_count": 41,
     "metadata": {},
     "output_type": "execute_result"
    }
   ],
   "source": [
    "context_vec_2 = attn_weights_2 @ value\n",
    "context_vec_2"
   ]
  },
  {
   "cell_type": "markdown",
   "id": "aff93608-92a5-4fb2-8292-cdb99ffd554a",
   "metadata": {},
   "source": [
    "#### Implementing compact SelfAttention class"
   ]
  },
  {
   "cell_type": "code",
   "execution_count": 43,
   "id": "60abbf21-618f-4587-9796-906da1c13181",
   "metadata": {},
   "outputs": [
    {
     "name": "stdout",
     "output_type": "stream",
     "text": [
      "tensor([[0.2996, 0.8053],\n",
      "        [0.3061, 0.8210],\n",
      "        [0.3058, 0.8203],\n",
      "        [0.2948, 0.7939],\n",
      "        [0.2927, 0.7891],\n",
      "        [0.2990, 0.8040]], grad_fn=<MmBackward0>)\n"
     ]
    }
   ],
   "source": [
    "import torch.nn as nn\n",
    "\n",
    "class SelfAttention_v1(nn.Module):\n",
    "    def __init__(self, d_in, d_out):\n",
    "        super().__init__()\n",
    "        self.W_query = nn.Parameter(torch.rand(d_in, d_out))\n",
    "        self.W_key = nn.Parameter(torch.rand(d_in, d_out))\n",
    "        self.W_value = nn.Parameter(torch.rand(d_in, d_out))\n",
    "    \n",
    "    def forward(self, x):\n",
    "        keys = x @ self.W_key\n",
    "        queries = x @ self.W_query\n",
    "        values = x @ self.W_value\n",
    "\n",
    "        # 1) attention score\n",
    "        attn_scores = queries @ keys.T # (d_in, d_in)\n",
    "        # 2) attention weight\n",
    "        attn_weights = torch.softmax(\n",
    "            attn_scores/keys.shape[-1] ** 0.5, dim=-1\n",
    "        ) # (d_in, d_in)\n",
    "        # 3) context_vector\n",
    "        context_vector = attn_weights @ values # (d_in, d_out)\n",
    "        return context_vector\n",
    "\n",
    "torch.manual_seed(123)\n",
    "sa_v1 = SelfAttention_v1(d_in, d_out)\n",
    "print(sa_v1(inputs))"
   ]
  },
  {
   "cell_type": "code",
   "execution_count": 44,
   "id": "474dd3b8-cf2a-4519-9a8c-641fcf4c93ea",
   "metadata": {},
   "outputs": [
    {
     "name": "stdout",
     "output_type": "stream",
     "text": [
      "tensor([[-0.5337, -0.1051],\n",
      "        [-0.5323, -0.1080],\n",
      "        [-0.5323, -0.1079],\n",
      "        [-0.5297, -0.1076],\n",
      "        [-0.5311, -0.1066],\n",
      "        [-0.5299, -0.1081]], grad_fn=<MmBackward0>)\n"
     ]
    }
   ],
   "source": [
    "class SelfAttention_v2(nn.Module):\n",
    "    def __init__(self, d_in, d_out, bias=False): # don't need to use bias\n",
    "        super().__init__()\n",
    "        self.W_query = nn.Linear(d_in, d_out, bias=bias)\n",
    "        self.W_key = nn.Linear(d_in, d_out, bias=bias)\n",
    "        self.W_value = nn.Linear(d_in, d_out, bias=bias)\n",
    "    \n",
    "    def forward(self, x):\n",
    "        keys = self.W_key(x)\n",
    "        queries = self.W_query(x)\n",
    "        values = self.W_value(x)\n",
    "\n",
    "        # 1) attention score\n",
    "        attn_scores = queries @ keys.T # (d_in, d_in)\n",
    "        # 2) attention weight\n",
    "        attn_weights = torch.softmax(\n",
    "            attn_scores/keys.shape[-1] ** 0.5, dim=-1\n",
    "        ) # (d_in, d_in)\n",
    "        # 3) context_vector\n",
    "        context_vector = attn_weights @ values # (d_in, d_out)\n",
    "        return context_vector\n",
    "\n",
    "torch.manual_seed(123)\n",
    "sa_v2 = SelfAttention_v2(d_in, d_out)\n",
    "print(sa_v2(inputs))"
   ]
  },
  {
   "cell_type": "markdown",
   "id": "4bd65b8e-47f9-415e-95e3-d97d70c49398",
   "metadata": {},
   "source": [
    "### 3.5 Causal Attention (Hiding future words)"
   ]
  },
  {
   "cell_type": "markdown",
   "id": "3902fede-e82b-4ce4-abce-6a28b61ace8f",
   "metadata": {},
   "source": [
    "#### Diagonal Masking (1)\n",
    "- zero masking\n",
    "    - get attention weight\n",
    "    - diagonal masking\n",
    "    - normalized"
   ]
  },
  {
   "cell_type": "code",
   "execution_count": 45,
   "id": "6cf60dba-c16a-4e66-9448-a9de3e2bf11a",
   "metadata": {},
   "outputs": [],
   "source": [
    "# ex) Your journey starts with one step\n",
    "# Your --> journey\n",
    "\n",
    "queries = sa_v2.W_query(inputs)\n",
    "keys = sa_v2.W_key(inputs)\n",
    "values = sa_v2.W_value(inputs)\n",
    "\n",
    "attn_scores = queries @ keys.T\n",
    "attn_weights = torch.softmax(attn_scores/values.shape[-1]**0.5, dim=-1)"
   ]
  },
  {
   "cell_type": "code",
   "execution_count": 46,
   "id": "ba5beb3f-3179-423b-b3af-25705ab54acf",
   "metadata": {},
   "outputs": [
    {
     "data": {
      "text/plain": [
       "tensor([[0.1717, 0.1762, 0.1761, 0.1555, 0.1627, 0.1579],\n",
       "        [0.1636, 0.1749, 0.1746, 0.1612, 0.1605, 0.1652],\n",
       "        [0.1637, 0.1749, 0.1746, 0.1611, 0.1606, 0.1651],\n",
       "        [0.1636, 0.1704, 0.1702, 0.1652, 0.1632, 0.1674],\n",
       "        [0.1667, 0.1722, 0.1721, 0.1618, 0.1633, 0.1639],\n",
       "        [0.1624, 0.1709, 0.1706, 0.1654, 0.1625, 0.1682]],\n",
       "       grad_fn=<SoftmaxBackward0>)"
      ]
     },
     "execution_count": 46,
     "metadata": {},
     "output_type": "execute_result"
    }
   ],
   "source": [
    "attn_weights"
   ]
  },
  {
   "cell_type": "code",
   "execution_count": 47,
   "id": "d8fcc50c-cde0-46a4-afb9-fb1620d7f758",
   "metadata": {},
   "outputs": [
    {
     "name": "stdout",
     "output_type": "stream",
     "text": [
      "tensor([[1., 0., 0., 0., 0., 0.],\n",
      "        [1., 1., 0., 0., 0., 0.],\n",
      "        [1., 1., 1., 0., 0., 0.],\n",
      "        [1., 1., 1., 1., 0., 0.],\n",
      "        [1., 1., 1., 1., 1., 0.],\n",
      "        [1., 1., 1., 1., 1., 1.]])\n"
     ]
    }
   ],
   "source": [
    "context_length = attn_scores.shape[0]\n",
    "mask_simple = torch.tril(torch.ones(context_length, context_length))\n",
    "print(mask_simple)"
   ]
  },
  {
   "cell_type": "code",
   "execution_count": 48,
   "id": "6e350751-13a4-446f-83b6-819c9def883a",
   "metadata": {},
   "outputs": [
    {
     "data": {
      "text/plain": [
       "tensor([[0.1717, 0.0000, 0.0000, 0.0000, 0.0000, 0.0000],\n",
       "        [0.1636, 0.1749, 0.0000, 0.0000, 0.0000, 0.0000],\n",
       "        [0.1637, 0.1749, 0.1746, 0.0000, 0.0000, 0.0000],\n",
       "        [0.1636, 0.1704, 0.1702, 0.1652, 0.0000, 0.0000],\n",
       "        [0.1667, 0.1722, 0.1721, 0.1618, 0.1633, 0.0000],\n",
       "        [0.1624, 0.1709, 0.1706, 0.1654, 0.1625, 0.1682]],\n",
       "       grad_fn=<MulBackward0>)"
      ]
     },
     "execution_count": 48,
     "metadata": {},
     "output_type": "execute_result"
    }
   ],
   "source": [
    "# get masked attention weight\n",
    "masked_simple = attn_weights * mask_simple\n",
    "masked_simple"
   ]
  },
  {
   "cell_type": "code",
   "execution_count": 49,
   "id": "8311cd93-0d3f-4d80-9df8-19afe1ce3c1f",
   "metadata": {},
   "outputs": [
    {
     "name": "stdout",
     "output_type": "stream",
     "text": [
      "tensor([[1.0000, 0.0000, 0.0000, 0.0000, 0.0000, 0.0000],\n",
      "        [0.4833, 0.5167, 0.0000, 0.0000, 0.0000, 0.0000],\n",
      "        [0.3190, 0.3408, 0.3402, 0.0000, 0.0000, 0.0000],\n",
      "        [0.2445, 0.2545, 0.2542, 0.2468, 0.0000, 0.0000],\n",
      "        [0.1994, 0.2060, 0.2058, 0.1935, 0.1953, 0.0000],\n",
      "        [0.1624, 0.1709, 0.1706, 0.1654, 0.1625, 0.1682]],\n",
      "       grad_fn=<DivBackward0>)\n"
     ]
    }
   ],
   "source": [
    "# normalize the masked values\n",
    "row_sums = masked_simple.sum(dim=-1, keepdim=True)\n",
    "masked_simple_norm = masked_simple / row_sums\n",
    "print(masked_simple_norm)"
   ]
  },
  {
   "cell_type": "markdown",
   "id": "1e9773fb-7109-443d-aa74-dc7a01e78794",
   "metadata": {},
   "source": [
    "#### Diagonal Masking (1)\n",
    "- negative inf masking\n",
    "    - get attention score\n",
    "    - masked with negative infinite values\n",
    "    - apply softmax"
   ]
  },
  {
   "cell_type": "code",
   "execution_count": 51,
   "id": "5e4d3f86-3468-461f-a21e-ffe767f013a3",
   "metadata": {},
   "outputs": [
    {
     "name": "stdout",
     "output_type": "stream",
     "text": [
      "tensor([[0.3111,   -inf,   -inf,   -inf,   -inf,   -inf],\n",
      "        [0.1655, 0.2602,   -inf,   -inf,   -inf,   -inf],\n",
      "        [0.1667, 0.2602, 0.2577,   -inf,   -inf,   -inf],\n",
      "        [0.0510, 0.1080, 0.1064, 0.0643,   -inf,   -inf],\n",
      "        [0.1415, 0.1875, 0.1863, 0.0987, 0.1121,   -inf],\n",
      "        [0.0476, 0.1192, 0.1171, 0.0731, 0.0477, 0.0966]],\n",
      "       grad_fn=<MaskedFillBackward0>)\n"
     ]
    }
   ],
   "source": [
    "mask = torch.triu(torch.ones(context_length, context_length), diagonal=1)\n",
    "masked = attn_scores.masked_fill(mask.bool(), -torch.inf)\n",
    "print(masked)"
   ]
  },
  {
   "cell_type": "code",
   "execution_count": 52,
   "id": "5140c924-975d-4c01-aa38-04fe3d7a89d1",
   "metadata": {},
   "outputs": [
    {
     "data": {
      "text/plain": [
       "tensor([[1.0000, 0.0000, 0.0000, 0.0000, 0.0000, 0.0000],\n",
       "        [0.4833, 0.5167, 0.0000, 0.0000, 0.0000, 0.0000],\n",
       "        [0.3190, 0.3408, 0.3402, 0.0000, 0.0000, 0.0000],\n",
       "        [0.2445, 0.2545, 0.2542, 0.2468, 0.0000, 0.0000],\n",
       "        [0.1994, 0.2060, 0.2058, 0.1935, 0.1953, 0.0000],\n",
       "        [0.1624, 0.1709, 0.1706, 0.1654, 0.1625, 0.1682]],\n",
       "       grad_fn=<SoftmaxBackward0>)"
      ]
     },
     "execution_count": 52,
     "metadata": {},
     "output_type": "execute_result"
    }
   ],
   "source": [
    "attn_weights = torch.softmax(masked/keys.shape[-1]**0.5, dim=-1)\n",
    "attn_weights"
   ]
  },
  {
   "cell_type": "markdown",
   "id": "e5e6209f-1245-4dc1-81e7-1b690eed5810",
   "metadata": {},
   "source": [
    "#### Masking additional attention weights with dropout\n",
    "- not using actively now"
   ]
  },
  {
   "cell_type": "code",
   "execution_count": 54,
   "id": "a47a839a-3863-4439-b9c6-5b867bf12c46",
   "metadata": {},
   "outputs": [
    {
     "name": "stdout",
     "output_type": "stream",
     "text": [
      "tensor([[2., 2., 0., 2., 2., 0.],\n",
      "        [0., 0., 0., 2., 0., 2.],\n",
      "        [2., 2., 2., 2., 0., 2.],\n",
      "        [0., 2., 2., 0., 0., 2.],\n",
      "        [0., 2., 0., 2., 0., 2.],\n",
      "        [0., 2., 2., 2., 2., 0.]])\n"
     ]
    }
   ],
   "source": [
    "torch.manual_seed(123)\n",
    "layer = torch.nn.Dropout(0.5)\n",
    "example = torch.ones(inputs.shape[0], inputs.shape[0])\n",
    "\n",
    "print(layer(example))"
   ]
  },
  {
   "cell_type": "code",
   "execution_count": 55,
   "id": "aecea9b2-7ee2-47a5-9347-9d371898e9c7",
   "metadata": {},
   "outputs": [
    {
     "name": "stdout",
     "output_type": "stream",
     "text": [
      "tensor([[2.0000, 0.0000, 0.0000, 0.0000, 0.0000, 0.0000],\n",
      "        [0.0000, 0.0000, 0.0000, 0.0000, 0.0000, 0.0000],\n",
      "        [0.0000, 0.6816, 0.6804, 0.0000, 0.0000, 0.0000],\n",
      "        [0.0000, 0.0000, 0.5085, 0.4936, 0.0000, 0.0000],\n",
      "        [0.0000, 0.0000, 0.0000, 0.0000, 0.3906, 0.0000],\n",
      "        [0.3249, 0.3418, 0.0000, 0.3308, 0.3249, 0.3363]],\n",
      "       grad_fn=<MulBackward0>)\n"
     ]
    }
   ],
   "source": [
    "print(layer(attn_weights))"
   ]
  },
  {
   "cell_type": "code",
   "execution_count": 56,
   "id": "feb61a35-efb6-4831-a5bd-544daf6b9e8e",
   "metadata": {},
   "outputs": [
    {
     "data": {
      "text/plain": [
       "2.0"
      ]
     },
     "execution_count": 56,
     "metadata": {},
     "output_type": "execute_result"
    }
   ],
   "source": [
    "dropout_rate = 0.5\n",
    "1 / (1-dropout_rate)"
   ]
  },
  {
   "cell_type": "markdown",
   "id": "66a6345f-5c96-43ed-aa0f-984a0cbf8d4b",
   "metadata": {},
   "source": [
    "#### Implementing a compact causal self-attention class"
   ]
  },
  {
   "cell_type": "code",
   "execution_count": 66,
   "id": "20e25747-598d-45d4-901f-e80e4d8aa8ce",
   "metadata": {},
   "outputs": [
    {
     "name": "stdout",
     "output_type": "stream",
     "text": [
      "torch.Size([2, 6, 3])\n"
     ]
    }
   ],
   "source": [
    "batches = torch.stack((inputs, inputs), dim=0)\n",
    "print(batches.shape)"
   ]
  },
  {
   "cell_type": "code",
   "execution_count": 68,
   "id": "92b0a4dd-37fb-4a81-8682-0a7415b3c579",
   "metadata": {},
   "outputs": [
    {
     "name": "stdout",
     "output_type": "stream",
     "text": [
      "tensor([[[-0.3132, -0.2272,  0.4772,  0.1063],\n",
      "         [-0.2320,  0.0293,  0.5789,  0.3056],\n",
      "         [-0.2068,  0.1162,  0.6118,  0.3695],\n",
      "         [-0.1635,  0.1328,  0.5457,  0.3531],\n",
      "         [-0.1687,  0.1813,  0.5315,  0.3400],\n",
      "         [-0.1411,  0.1727,  0.5063,  0.3432]],\n",
      "\n",
      "        [[-0.3132, -0.2272,  0.4772,  0.1063],\n",
      "         [-0.2320,  0.0293,  0.5789,  0.3056],\n",
      "         [-0.2068,  0.1162,  0.6118,  0.3695],\n",
      "         [-0.1635,  0.1328,  0.5457,  0.3531],\n",
      "         [-0.1687,  0.1813,  0.5315,  0.3400],\n",
      "         [-0.1411,  0.1727,  0.5063,  0.3432]]], grad_fn=<UnsafeViewBackward0>)\n",
      "Shape: torch.Size([2, 6, 4])\n"
     ]
    }
   ],
   "source": [
    "class CausalAttention(nn.Module):\n",
    "    def __init__(self, d_in, d_out, context_length, dropout, bias=False):\n",
    "        super().__init__()\n",
    "        \n",
    "        self.d_out = d_out\n",
    "        self.W_query = nn.Linear(d_in, d_out, bias=bias)\n",
    "        self.W_key = nn.Linear(d_in, d_out, bias=bias)\n",
    "        self.W_value = nn.Linear(d_in, d_out, bias=bias)\n",
    "        self.dropout = nn.Dropout(dropout)\n",
    "        self.register_buffer(\"mask\", torch.triu(torch.ones(context_length, context_length), diagonal=1))\n",
    "\n",
    "    def forward(self, x):\n",
    "        batch, num_tokens, d_in = x.shape\n",
    "        queries = self.W_query(x)\n",
    "        keys = self.W_key(x)\n",
    "        values = self.W_value(x)\n",
    "\n",
    "        attn_scores = queries @ keys.transpose(1,2) # [batch, num_tokens, num_tokens]\n",
    "        attn_scores.masked_fill_(\n",
    "            self.mask.bool()[:num_tokens, :num_tokens], -torch.inf\n",
    "        )\n",
    "        attn_weights = torch.softmax(\n",
    "            attn_scores/values.shape[-1]**0.5, dim=-1\n",
    "        )\n",
    "        attn_weights = self.dropout(attn_weights)\n",
    "\n",
    "        context_vec = attn_weights @ values # [batch, num_tokens, d_out]\n",
    "        return context_vec\n",
    "\n",
    "torch.manual_seed(123)\n",
    "context_length = batches.shape[1]\n",
    "dropout = 0.0\n",
    "ca = CausalAttention(d_in, d_out, context_length, dropout)\n",
    "context_vecs = ca(batches)\n",
    "print(context_vecs)\n",
    "print(\"Shape:\", context_vecs.shape)"
   ]
  },
  {
   "cell_type": "markdown",
   "id": "6c7512ee-9ee9-4f01-9873-dee7be183243",
   "metadata": {},
   "source": [
    "### 3.6 Multi-head attention"
   ]
  },
  {
   "cell_type": "code",
   "execution_count": 70,
   "id": "f1e6da08-7423-40f9-bdad-74dbc70a7022",
   "metadata": {},
   "outputs": [
    {
     "name": "stdout",
     "output_type": "stream",
     "text": [
      "tensor([[[-0.4519,  0.2216,  0.4772,  0.1063],\n",
      "         [-0.5874,  0.0058,  0.5891,  0.3257],\n",
      "         [-0.6300, -0.0632,  0.6202,  0.3860],\n",
      "         [-0.5675, -0.0843,  0.5478,  0.3589],\n",
      "         [-0.5526, -0.0981,  0.5321,  0.3428],\n",
      "         [-0.5299, -0.1081,  0.5077,  0.3493]],\n",
      "\n",
      "        [[-0.4519,  0.2216,  0.4772,  0.1063],\n",
      "         [-0.5874,  0.0058,  0.5891,  0.3257],\n",
      "         [-0.6300, -0.0632,  0.6202,  0.3860],\n",
      "         [-0.5675, -0.0843,  0.5478,  0.3589],\n",
      "         [-0.5526, -0.0981,  0.5321,  0.3428],\n",
      "         [-0.5299, -0.1081,  0.5077,  0.3493]]], grad_fn=<CatBackward0>)\n",
      "Shape: torch.Size([2, 6, 4])\n"
     ]
    }
   ],
   "source": [
    "## 1) stacking causal attention\n",
    "\n",
    "class MultiHeadAttentionWrapper(nn.Module):\n",
    "    def __init__(self, d_in, d_out, context_length, dropout, num_heads=2):\n",
    "        super().__init__()\n",
    "        self.heads = nn.ModuleList(\n",
    "            [CausalAttention(d_in, d_out, context_length, dropout) for _ in range(num_heads)]\n",
    "        )\n",
    "    def forward(self, x):\n",
    "        return torch.cat([head(x) for head in self.heads], dim=-1)\n",
    "\n",
    "torch.manual_seed(123)\n",
    "\n",
    "context_length = batches.shape[1]\n",
    "d_in, d_out = batches.shape[-1], 2\n",
    "dropout = 0.0\n",
    "mha = MultiHeadAttentionWrapper(\n",
    "    d_in, d_out, context_length, dropout, num_heads=2\n",
    ")\n",
    "context_vecs = mha(batches)\n",
    "print(context_vecs)\n",
    "print(\"Shape:\", context_vecs.shape)"
   ]
  },
  {
   "cell_type": "code",
   "execution_count": 87,
   "id": "6117ddbf-f35c-41e1-af45-d8cb28bb7e08",
   "metadata": {},
   "outputs": [
    {
     "name": "stdout",
     "output_type": "stream",
     "text": [
      "tensor([[[ 0.1184,  0.3120, -0.0847, -0.5774],\n",
      "         [ 0.0178,  0.3221, -0.0763, -0.4225],\n",
      "         [-0.0147,  0.3259, -0.0734, -0.3721],\n",
      "         [-0.0116,  0.3138, -0.0708, -0.3624],\n",
      "         [-0.0117,  0.2973, -0.0698, -0.3543],\n",
      "         [-0.0132,  0.2990, -0.0689, -0.3490]],\n",
      "\n",
      "        [[ 0.1184,  0.3120, -0.0847, -0.5774],\n",
      "         [ 0.0178,  0.3221, -0.0763, -0.4225],\n",
      "         [-0.0147,  0.3259, -0.0734, -0.3721],\n",
      "         [-0.0116,  0.3138, -0.0708, -0.3624],\n",
      "         [-0.0117,  0.2973, -0.0698, -0.3543],\n",
      "         [-0.0132,  0.2990, -0.0689, -0.3490]]], grad_fn=<ViewBackward0>)\n",
      "Shape: torch.Size([2, 6, 4])\n"
     ]
    }
   ],
   "source": [
    "## 2) multi-head attention with weight splits\n",
    "class MultiHeadAttention(nn.Module):\n",
    "    def __init__(self, d_in, d_out, context_length, dropout, num_heads, bias=False):\n",
    "        super().__init__()\n",
    "        assert d_out % num_heads == 0, \"d_out must be divisible by num_heads\"\n",
    "\n",
    "        self.d_out = d_out # output dimension\n",
    "        self.num_heads = num_heads\n",
    "        self.head_dim = d_out // num_heads\n",
    "        \n",
    "        self.W_query = nn.Linear(d_in, d_out, bias=bias)\n",
    "        self.W_key = nn.Linear(d_in, d_out, bias=bias)\n",
    "        self.W_value = nn.Linear(d_in, d_out, bias=bias)\n",
    "        self.dropout = nn.Dropout(dropout)\n",
    "        self.register_buffer(\n",
    "            \"mask\",\n",
    "            torch.triu(torch.ones(context_length, context_length), diagonal=1)\n",
    "        )\n",
    "        self.proj = nn.Linear(d_out, d_out)\n",
    "\n",
    "    def forward(self, x):\n",
    "        batch, num_tokens, d_in = x.shape\n",
    "\n",
    "        keys = self.W_key(x) # [batch, num_tokens, d_out]\n",
    "        queries = self.W_query(x) # [batch, num_tokens, d_out]\n",
    "        values = self.W_value(x) # [batch, num_tokens, d_out]\n",
    "\n",
    "        # devide into head => [batch, num_tokens, num_heads, head_dim] d_out = num_head * head_dim\n",
    "        keys = keys.view(batch, num_tokens, self.num_heads, self.head_dim)\n",
    "        queries = queries.view(batch, num_tokens, self.num_heads, self.head_dim)\n",
    "        values = values.view(batch, num_tokens, self.num_heads, self.head_dim)\n",
    "        \n",
    "        # 1) get attention score (Q @ K.T) ---> [ batch, num_head, num_tokens, num_tokens ]\n",
    "        # 1-1) want to calculate attention for each head\n",
    "        keys = keys.transpose(1,2) # [batch, num_heads, num_tokens, head_dim]\n",
    "        queries = queries.transpose(1,2) # [batch, num_heads, num_tokens, head_dim]\n",
    "        values = values.transpose(1,2) # [batch, num_heads, num_tokens, head_dim]\n",
    "\n",
    "        attn_scores = queries @ keys.transpose(2, 3) # [batch, num_head, num_tokens, num_tokens]\n",
    "        # [batch, num_head, num_tokens, head_dim] @ [batch, num_head, head_dim, num_tokens]\n",
    "\n",
    "        ## 1-2) masking\n",
    "        mask_bool = self.mask.bool()[:num_tokens, :num_tokens]\n",
    "        attn_scores.masked_fill_(mask_bool, -torch.inf)\n",
    "        \n",
    "        # 2) attention weight: normalization\n",
    "        attn_weights = torch.softmax(attn_scores/keys.shape[-1]**0.5, dim=-1) # [batch, num_head, num_tokens, num_tokens]\n",
    "        attn_weights = self.dropout(attn_weights)\n",
    "\n",
    "        # 3) get context vector ---> [ batch, num_tokens, d_out(num_head * head_dim) ]\n",
    "        # attn_weights @ values ---> [batch, num_head, num_tokens, head_dim]\n",
    "        # (attn_weights @ values).transpose(1,2) ---> [batch, num_tokens, num_head, head_dim]\n",
    "        context_vec = (attn_weights @ values).transpose(1,2)\n",
    "\n",
    "        ## 3-2) reshape to have original shape\n",
    "        context_vec = context_vec.reshape(batch, num_tokens, self.d_out)\n",
    "        context_vec = self.proj(context_vec)\n",
    "        \n",
    "        return context_vec # [batch, num_tokens, d_out]\n",
    "\n",
    "torch.manual_seed(123)\n",
    "\n",
    "batch, context_length, d_in = batches.shape\n",
    "d_out = 4\n",
    "dropout = 0.0\n",
    "mha = MultiHeadAttention(\n",
    "    d_in, d_out, context_length, dropout, num_heads=2\n",
    ")\n",
    "context_vecs = mha(batches)\n",
    "print(context_vecs)\n",
    "print(\"Shape:\", context_vecs.shape)"
   ]
  },
  {
   "cell_type": "markdown",
   "id": "6d7d336b-f0a0-4c7e-b82a-d8ea605e992f",
   "metadata": {},
   "source": [
    "#### FlashAttention\n",
    "- scaled_dot_product_attention"
   ]
  },
  {
   "cell_type": "code",
   "execution_count": 98,
   "id": "a49597b7-4865-4d43-896f-64ba31bcd686",
   "metadata": {},
   "outputs": [],
   "source": [
    "class MHA_FlashAttention(nn.Module):\n",
    "    def __init__(self, d_in, d_out, context_length, num_heads, dropout=0.0, bias=False):\n",
    "        super().__init__()\n",
    "        assert d_out % num_heads == 0, \"embed_dim is indivisible by num_heads\"\n",
    "\n",
    "        self.d_out = d_out\n",
    "        self.num_heads = num_heads\n",
    "        self.head_dim = d_out // num_heads\n",
    "        self.context_length = context_length\n",
    "\n",
    "        self.qkv = nn.Linear(d_in, 3*d_out, bias=bias)\n",
    "        self.proj = nn.Linear(d_out, d_out)\n",
    "        self.dropout = dropout\n",
    "\n",
    "    def forward(self, x):\n",
    "        batch, num_tokens, in_dim = x.shape\n",
    "\n",
    "        # apply qkv ---> [batch, num_tokens, 3*out_dim]\n",
    "        qkv = self.qkv(x)\n",
    "\n",
    "        # split qkv [batch, num_tokens, 3*out_dim] ---> [batch, num_tokens, 3, num_heads, head_dim]\n",
    "        qkv = qkv.view(batch, num_tokens, 3, self.num_heads, self.head_dim)\n",
    "        # [batch, num_tokens, 3, num_heads, head_dim] --> [3, batch, num_head, num_tokens, head_dim]\n",
    "        qkv = qkv.permute(2, 0, 3, 1, 4)\n",
    "        queries, keys, values = qkv\n",
    "\n",
    "        use_dropout = 0. if not self.training else self.dropout\n",
    "\n",
    "        context_vec = nn.functional.scaled_dot_product_attention(\n",
    "            queries, keys, values, attn_mask=None, dropout_p=use_dropout, is_causal=True\n",
    "        ) # [batch, num_head, num_tokens, head_dim]\n",
    "        context_vec = context_vec.transpose(1,2) # [batch, num_tokens, num_head, head_dim]\n",
    "        context_vec = context_vec.reshape(batch, num_tokens, self.d_out)\n",
    "        context_vec = self.proj(context_vec)\n",
    "        return context_vec # [batch, num_tokens, out_dim]"
   ]
  },
  {
   "cell_type": "code",
   "execution_count": 99,
   "id": "121969c6-4e49-43c6-822f-77e7991e0cdc",
   "metadata": {},
   "outputs": [
    {
     "name": "stdout",
     "output_type": "stream",
     "text": [
      "torch.Size([2, 6, 4])\n"
     ]
    }
   ],
   "source": [
    "batch, context_length, d_in = batches.shape\n",
    "d_out = 4\n",
    "\n",
    "mha_flashed=MHA_FlashAttention(\n",
    "    d_in, d_out, context_length, num_heads=2\n",
    ")\n",
    "context_vecs = mha_flashed(batches)\n",
    "print(context_vecs.shape)"
   ]
  },
  {
   "cell_type": "code",
   "execution_count": null,
   "id": "fe5f3423-9bbe-4b76-8efb-5ae1bea66a20",
   "metadata": {},
   "outputs": [],
   "source": []
  }
 ],
 "metadata": {
  "kernelspec": {
   "display_name": "Python 3 (ipykernel)",
   "language": "python",
   "name": "python3"
  },
  "language_info": {
   "codemirror_mode": {
    "name": "ipython",
    "version": 3
   },
   "file_extension": ".py",
   "mimetype": "text/x-python",
   "name": "python",
   "nbconvert_exporter": "python",
   "pygments_lexer": "ipython3",
   "version": "3.10.18"
  }
 },
 "nbformat": 4,
 "nbformat_minor": 5
}
